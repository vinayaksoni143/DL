{
 "cells": [
  {
   "cell_type": "markdown",
   "metadata": {
    "id": "rGVQ1Ef0tUuw"
   },
   "source": [
    "To implement backpropogation algorithm on iris dataset"
   ]
  },
  {
   "cell_type": "code",
   "execution_count": 1,
   "metadata": {
    "executionInfo": {
     "elapsed": 2154,
     "status": "ok",
     "timestamp": 1681104898943,
     "user": {
      "displayName": "E71-Yashkumar Jain",
      "userId": "03185458364780958242"
     },
     "user_tz": -330
    },
    "id": "GLrM_VhjoeGa"
   },
   "outputs": [],
   "source": [
    "import sklearn\n",
    "import numpy as np\n",
    "import math"
   ]
  },
  {
   "cell_type": "code",
   "execution_count": 2,
   "metadata": {
    "executionInfo": {
     "elapsed": 5,
     "status": "ok",
     "timestamp": 1681104898943,
     "user": {
      "displayName": "E71-Yashkumar Jain",
      "userId": "03185458364780958242"
     },
     "user_tz": -330
    },
    "id": "jBu6sfEwoqIQ"
   },
   "outputs": [],
   "source": [
    "from sklearn import datasets\n",
    "iris_X,iris_y = datasets.load_iris(return_X_y = True)\n",
    "#loads the dataset as a numpy array\n",
    "\n",
    "#to view the Iris_X dataset array\n",
    "# print(iris_X.shape)"
   ]
  },
  {
   "cell_type": "code",
   "execution_count": 3,
   "metadata": {
    "executionInfo": {
     "elapsed": 5,
     "status": "ok",
     "timestamp": 1681104898944,
     "user": {
      "displayName": "E71-Yashkumar Jain",
      "userId": "03185458364780958242"
     },
     "user_tz": -330
    },
    "id": "_Em-N1kPr8b_"
   },
   "outputs": [],
   "source": [
    "from sklearn.model_selection import train_test_split\n",
    "train_x,test_x,train_y,test_y=train_test_split(iris_X,iris_y,test_size=0.15)"
   ]
  },
  {
   "cell_type": "code",
   "execution_count": 4,
   "metadata": {
    "executionInfo": {
     "elapsed": 5,
     "status": "ok",
     "timestamp": 1681104898944,
     "user": {
      "displayName": "E71-Yashkumar Jain",
      "userId": "03185458364780958242"
     },
     "user_tz": -330
    },
    "id": "m15cP_zOuHuH"
   },
   "outputs": [],
   "source": [
    "def sigmoid(x):\n",
    "  for i in range(0,x.shape[0]):\n",
    "    x[i]=1/(1+np.exp(-1*x[i]))\n",
    "  return x"
   ]
  },
  {
   "cell_type": "code",
   "execution_count": 5,
   "metadata": {
    "executionInfo": {
     "elapsed": 5,
     "status": "ok",
     "timestamp": 1681104898944,
     "user": {
      "displayName": "E71-Yashkumar Jain",
      "userId": "03185458364780958242"
     },
     "user_tz": -330
    },
    "id": "cQHcf6bDuJwH"
   },
   "outputs": [],
   "source": [
    "def diff_sigmoid(x):\n",
    "  for i in range(0,len(x)):\n",
    "    y=1/(1+np.exp(-1*x[i]))\n"
   ]
  },
  {
   "cell_type": "code",
   "execution_count": 6,
   "metadata": {
    "executionInfo": {
     "elapsed": 5,
     "status": "ok",
     "timestamp": 1681104898944,
     "user": {
      "displayName": "E71-Yashkumar Jain",
      "userId": "03185458364780958242"
     },
     "user_tz": -330
    },
    "id": "iySHDQ1FwoiP"
   },
   "outputs": [],
   "source": [
    "#Model contains 4 layers having 4->8->8->3 neurons respectively\n",
    "#Intializing Weights\n",
    "w12=np.random.rand(8,4)\n",
    "b1=np.random.rand(8,1)\n",
    "w23=np.random.rand(8,8)\n",
    "b2=np.random.rand(8,1)\n",
    "w34=np.random.rand(3,8)\n",
    "b3=np.random.rand(3,1)"
   ]
  },
  {
   "cell_type": "code",
   "execution_count": 7,
   "metadata": {
    "executionInfo": {
     "elapsed": 4,
     "status": "ok",
     "timestamp": 1681104898944,
     "user": {
      "displayName": "E71-Yashkumar Jain",
      "userId": "03185458364780958242"
     },
     "user_tz": -330
    },
    "id": "PIWs39oRwsd_"
   },
   "outputs": [],
   "source": [
    "def forwardPropagation(X,Y,dict2):\n",
    "    dict ={}\n",
    "    w12=dict2[\"w12\"]\n",
    "    w23=dict2[\"w23\"]\n",
    "    w34=dict2[\"w34\"]\n",
    "    b1=dict2[\"b1\"]\n",
    "    b2=dict2[\"b2\"]\n",
    "    b3=dict2[\"b3\"]\n",
    "    X=np.asarray(X)\n",
    "    X=X.reshape((4,1))\n",
    "    net1=np.dot(w12,X)+b1\n",
    "    a1=sigmoid(net1)\n",
    "    net2=np.dot(w23,a1)+b2\n",
    "    a2=sigmoid(net2)\n",
    "    net3=np.dot(w34,a2)+b3\n",
    "    a3=sigmoid(net3)\n",
    "    error=1/2*np.sum(pow((Y-a3),2))\n",
    "    dict[\"a1\"]=a1\n",
    "    dict[\"a2\"]=a2\n",
    "    dict[\"a3\"]=a3\n",
    "    dict[\"net1\"]=net1\n",
    "    dict[\"net2\"]=net2\n",
    "    dict[\"net3\"]=net3\n",
    "    dict[\"err\"]=error\n",
    "    return dict"
   ]
  },
  {
   "cell_type": "code",
   "execution_count": 8,
   "metadata": {
    "executionInfo": {
     "elapsed": 4,
     "status": "ok",
     "timestamp": 1681104898944,
     "user": {
      "displayName": "E71-Yashkumar Jain",
      "userId": "03185458364780958242"
     },
     "user_tz": -330
    },
    "id": "na5DYY_dwy_X"
   },
   "outputs": [],
   "source": [
    "def Backpropagation(X,y,alpha,dict,dict2):\n",
    "  a1=dict[\"a1\"]\n",
    "  a2=dict[\"a2\"]\n",
    "  a3=dict[\"a3\"]\n",
    "  net1=dict[\"net1\"]\n",
    "  net2=dict[\"net2\"]\n",
    "  net3=dict[\"net3\"]\n",
    "  error=dict[\"err\"]\n",
    "  w12=dict2[\"w12\"]\n",
    "  w23=dict2[\"w23\"]\n",
    "  w34=dict2[\"w34\"]\n",
    "  b1=dict2[\"b1\"]\n",
    "  b2=dict2[\"b2\"]\n",
    "  b3=dict2[\"b3\"]\n",
    "  y1=np.zeros((3,1))\n",
    "  y1[y]=1\n",
    "  a3=a3.reshape((3,1))\n",
    "  a2=a2.reshape((8,1))\n",
    "  a1=a1.reshape((8,1))\n",
    "  X=np.asarray(X)\n",
    "  X=X.reshape((4,1))\n",
    "  temp=np.multiply(a3-y1,np.multiply(a3,np.ones(a3.shape)-a3))\n",
    "  temp2=np.multiply(np.dot(temp.transpose(),w34).T,np.multiply(a2,np.ones(a2.shape)-a2))\n",
    "  temp3=np.multiply(np.dot(temp2.transpose(),w23).T,np.multiply(a1,np.ones(a1.shape)-a1))\n",
    "  w34=w34-(alpha)*(np.dot(temp,a2.T))\n",
    "  b3=b3-(alpha)*temp \n",
    "  w23=w23-(alpha)*(np.dot(temp2,a1.T))\n",
    "  b2=b2-(alpha)*temp2\n",
    "  w12=w12-(alpha)*(np.dot(temp3,X.T))            \n",
    "  b1=b1-(alpha)*(temp3)\n",
    "  dict2[\"w12\"]=w12\n",
    "  dict2[\"w23\"]=w23 \n",
    "  dict2[\"w34\"]=w34\n",
    "  dict2[\"b1\"]=b1\n",
    "  dict2[\"b2\"]=b2\n",
    "  dict2[\"b3\"]=b3\n",
    "  return dict2"
   ]
  },
  {
   "cell_type": "code",
   "execution_count": 9,
   "metadata": {
    "executionInfo": {
     "elapsed": 2,
     "status": "ok",
     "timestamp": 1681105360340,
     "user": {
      "displayName": "E71-Yashkumar Jain",
      "userId": "03185458364780958242"
     },
     "user_tz": -330
    },
    "id": "OoK_SdNZx3M3"
   },
   "outputs": [],
   "source": [
    "def main(X,y):\n",
    "  epoch=8000\n",
    "  alpha=0.01\n",
    "  weights={}\n",
    "  cost_list=[]\n",
    "  weights[\"w12\"]=w12\n",
    "  weights[\"w23\"]=w23 \n",
    "  weights[\"w34\"]=w34\n",
    "  weights[\"b1\"]=b1\n",
    "  weights[\"b2\"]=b2\n",
    "  weights[\"b3\"]=b3\n",
    "  weights['No_of_epoch']=epoch\n",
    "  while(True):\n",
    "    for i in range(1,X.shape[0]):\n",
    "      d1=forwardPropagation(X[i],y[i],weights)\n",
    "      weights=Backpropagation(X[i],y[i],alpha,d1,weights)\n",
    "      curr_error=d1[\"err\"]\n",
    "    epoch=epoch-1\n",
    "    if(epoch<0):\n",
    "      break\n",
    "    final=d1[\"err\"]\n",
    "    cost_list.append(final)\n",
    "  weights['cost']=cost_list\n",
    "  return weights"
   ]
  },
  {
   "cell_type": "code",
   "execution_count": 10,
   "metadata": {
    "id": "4PI6TAmBx5yP"
   },
   "outputs": [],
   "source": [
    "ans=main(train_x,train_y)\n",
    "pred=[]\n",
    "for i in range(len(test_x)):\n",
    "   temp=(forwardPropagation(test_x[i],test_y[i],ans)['a3'])\n",
    "   index_max = np.argmax(temp) \n",
    "   pred.append(index_max)"
   ]
  },
  {
   "cell_type": "code",
   "execution_count": 11,
   "metadata": {
    "id": "EqltaHUHx_g_"
   },
   "outputs": [
    {
     "data": {
      "text/plain": [
       "[0, 1, 0, 2, 0, 1, 1, 0, 0, 2, 0, 2, 0, 0, 1, 2, 2, 0, 2, 1, 2, 0, 0]"
      ]
     },
     "execution_count": 11,
     "metadata": {},
     "output_type": "execute_result"
    }
   ],
   "source": [
    "pred"
   ]
  },
  {
   "cell_type": "code",
   "execution_count": 12,
   "metadata": {
    "id": "o5n0zlwS0WIQ"
   },
   "outputs": [
    {
     "name": "stdout",
     "output_type": "stream",
     "text": [
      "Test accuracy\n"
     ]
    },
    {
     "data": {
      "text/plain": [
       "0.9130434782608695"
      ]
     },
     "execution_count": 12,
     "metadata": {},
     "output_type": "execute_result"
    }
   ],
   "source": [
    "from sklearn.metrics import accuracy_score\n",
    "print(\"Test accuracy\")\n",
    "accuracy_score(test_y, pred)"
   ]
  },
  {
   "cell_type": "code",
   "execution_count": null,
   "metadata": {
    "id": "UlbKJmgH2sT4"
   },
   "outputs": [],
   "source": []
  }
 ],
 "metadata": {
  "accelerator": "GPU",
  "colab": {
   "authorship_tag": "ABX9TyP+2b4bFpuTXXnsYKVgEBYi",
   "provenance": []
  },
  "gpuClass": "standard",
  "kernelspec": {
   "display_name": "Python 3 (ipykernel)",
   "language": "python",
   "name": "python3"
  },
  "language_info": {
   "codemirror_mode": {
    "name": "ipython",
    "version": 3
   },
   "file_extension": ".py",
   "mimetype": "text/x-python",
   "name": "python",
   "nbconvert_exporter": "python",
   "pygments_lexer": "ipython3",
   "version": "3.9.12"
  }
 },
 "nbformat": 4,
 "nbformat_minor": 1
}
