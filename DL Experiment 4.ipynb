{
 "cells": [
  {
   "attachments": {},
   "cell_type": "markdown",
   "id": "ae1ac54b",
   "metadata": {},
   "source": [
    "Write a program to implement Autoencoders for both binary and real valued inputs. Use appropiate activation and loss fucntion\n",
    "\n",
    "input: 5\n",
    "hidden: 4\n",
    "output: 5\n",
    "\n",
    "Binary input - 10011"
   ]
  },
  {
   "cell_type": "code",
   "execution_count": 2,
   "id": "807ad22d",
   "metadata": {},
   "outputs": [],
   "source": [
    "import numpy as np \n",
    "\n",
    "learning_rate=0.01\n",
    "num_epochs=100\n",
    "batch_size=32\n",
    "input_size=5\n",
    "hidden_size=4"
   ]
  },
  {
   "cell_type": "code",
   "execution_count": 3,
   "id": "26f0735f",
   "metadata": {},
   "outputs": [
    {
     "name": "stdout",
     "output_type": "stream",
     "text": [
      "Epoch 0: loss=0.8181525108876692\n",
      "Epoch 100: loss=0.501918229289269\n",
      "Epoch 200: loss=0.35093225364358116\n",
      "Epoch 300: loss=0.2608098776131166\n",
      "Epoch 400: loss=0.2009554652120688\n",
      "Epoch 500: loss=0.15872058193974667\n",
      "Epoch 600: loss=0.12788063998828095\n",
      "Epoch 700: loss=0.10490077988254294\n",
      "Epoch 800: loss=0.08751914296940491\n",
      "Epoch 900: loss=0.0741827580810672\n"
     ]
    }
   ],
   "source": [
    "import numpy as np\n",
    "\n",
    "\n",
    "def sigmoid(x):\n",
    "    return 1 / (1 + np.exp(-x))\n",
    "\n",
    "\n",
    "def sigmoid_derivative(x):\n",
    "    return sigmoid(x) * (1 - sigmoid(x))\n",
    "\n",
    "def binary_crossentropy(y_true, y_pred):\n",
    "    return -np.mean(y_true * np.log(y_pred) + (1 - y_true) * np.log(1 - y_pred))\n",
    "\n",
    "np.random.seed(42)\n",
    "\n",
    "\n",
    "input_size = 5\n",
    "hidden_size = 4\n",
    "output_size = 5\n",
    "\n",
    "W1 = np.random.randn(input_size, hidden_size)\n",
    "b1 = np.zeros((1, hidden_size))\n",
    "W2 = np.random.randn(hidden_size, output_size)\n",
    "b2 = np.zeros((1, output_size))\n",
    "\n",
    "\n",
    "learning_rate = 0.01\n",
    "num_epochs = 1000\n",
    "\n",
    "\n",
    "X = np.array([[1, 0, 0, 1,1]])\n",
    "\n",
    "# Train the autoencoder\n",
    "for epoch in range(num_epochs):\n",
    "    # Forward pass\n",
    "    z1 = np.dot(X, W1) + b1\n",
    "    a1 = sigmoid(z1)\n",
    "    z2 = np.dot(a1, W2) + b2\n",
    "    y = sigmoid(z2)\n",
    "    \n",
    "    # Backward pass\n",
    "    d_z2 = y - X\n",
    "    d_W2 = np.dot(a1.T, d_z2)\n",
    "    d_b2 = np.sum(d_z2, axis=0, keepdims=True)\n",
    "    d_a1 = np.dot(d_z2, W2.T)\n",
    "    d_z1 = d_a1 * sigmoid_derivative(z1)\n",
    "    d_W1 = np.dot(X.T, d_z1)\n",
    "    d_b1 = np.sum(d_z1, axis=0, keepdims=True)\n",
    "    \n",
    "    \n",
    "    W1 -= learning_rate * d_W1\n",
    "    b1 -= learning_rate * d_b1\n",
    "    W2 -= learning_rate * d_W2\n",
    "    b2 -= learning_rate * d_b2\n",
    "    \n",
    "    \n",
    "    loss = binary_crossentropy(X,y)\n",
    "    \n",
    "    \n",
    "#  epochs\n",
    "    if epoch % 100 == 0:\n",
    "        print(f\"Epoch {epoch}: loss={loss}\")"
   ]
  },
  {
   "cell_type": "code",
   "execution_count": 1,
   "id": "a5dd25a1",
   "metadata": {},
   "outputs": [
    {
     "name": "stdout",
     "output_type": "stream",
     "text": [
      "[0.65900114 0.24243297 0.09856589]\n"
     ]
    }
   ],
   "source": [
    "import numpy as np\n",
    "\n",
    "# Define input vector\n",
    "x = np.array([2.0, 1.0, 0.1])\n",
    "\n",
    "# Compute softmax function\n",
    "softmax_x = np.exp(x) / np.sum(np.exp(x))\n",
    "\n",
    "# Print output\n",
    "print(softmax_x)\n"
   ]
  },
  {
   "cell_type": "code",
   "execution_count": null,
   "id": "35b796a5",
   "metadata": {},
   "outputs": [],
   "source": []
  }
 ],
 "metadata": {
  "kernelspec": {
   "display_name": "Python 3 (ipykernel)",
   "language": "python",
   "name": "python3"
  },
  "language_info": {
   "codemirror_mode": {
    "name": "ipython",
    "version": 3
   },
   "file_extension": ".py",
   "mimetype": "text/x-python",
   "name": "python",
   "nbconvert_exporter": "python",
   "pygments_lexer": "ipython3",
   "version": "3.9.12"
  }
 },
 "nbformat": 4,
 "nbformat_minor": 5
}
